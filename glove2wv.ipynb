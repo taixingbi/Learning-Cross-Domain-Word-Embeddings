{
 "cells": [
  {
   "cell_type": "code",
   "execution_count": 15,
   "metadata": {},
   "outputs": [
    {
     "name": "stdout",
     "output_type": "stream",
     "text": [
      "glove file name: glove.6B.300d.txt\n",
      "starting glove to word2vector\n",
      "loading wv2glove.6B.300d.txt\n",
      "saving wv2glove.6B.300d.txt\n",
      "all was done\n",
      "loading word2vector model...\n",
      "test word2vector model\n"
     ]
    },
    {
     "name": "stderr",
     "output_type": "stream",
     "text": [
      "/home/h/anaconda3/lib/python3.6/site-packages/ipykernel_launcher.py:35: DeprecationWarning: Call to deprecated `wv` (Attribute will be removed in 4.0.0, use self instead).\n"
     ]
    }
   ],
   "source": [
    "#https://radimrehurek.com/gensim/scripts/glove2word2vec.html\n",
    "from gensim.models import KeyedVectors\n",
    "from gensim.scripts.glove2word2vec import glove2word2vec\n",
    "import gensim\n",
    "\n",
    "class glove2wv(object):\n",
    "    def __init__(self, fn_glove):\n",
    "        self.fn_glove= fn_glove\n",
    "    def convert(self):\n",
    "        print(\"glove file name:\", self.fn_glove)\n",
    "        fn_wv= 'wv2'+self.fn_glove\n",
    "        print(\"starting glove to word2vector\")\n",
    "        glove2word2vec(self.fn_glove, fn_wv)\n",
    "        print(\"loading\",fn_wv)\n",
    "        model = KeyedVectors.load_word2vec_format(fn_wv, binary=False)\n",
    "        print(\"saving\",fn_wv)\n",
    "        fn_wv_bin= fn_wv.strip('.txt')+'.bin'\n",
    "        model.save_word2vec_format(fn_wv_bin, binary=True)\n",
    "        print(\"all was done\")\n",
    "        return fn_wv_bin\n",
    "\n",
    "\n",
    "if __name__ == \"__main__\":\n",
    "    fn_glove= 'glove.6B.300d.txt'\n",
    "    fn= glove2wv(fn_glove).convert()\n",
    "    \n",
    "    print(\"loading word2vector model...\")\n",
    "    model = KeyedVectors.load_word2vec_format(fn, binary=True)\n",
    "    print(\"test word2vector model\")\n",
    "    \n",
    "    #for word, vocab_obj in model.vocab.items():print( word, vocab_obj.count )\n",
    "    model.wv['computer'] \n",
    "    "
   ]
  },
  {
   "cell_type": "code",
   "execution_count": null,
   "metadata": {},
   "outputs": [],
   "source": []
  },
  {
   "cell_type": "code",
   "execution_count": null,
   "metadata": {},
   "outputs": [],
   "source": []
  },
  {
   "cell_type": "code",
   "execution_count": null,
   "metadata": {},
   "outputs": [],
   "source": []
  },
  {
   "cell_type": "code",
   "execution_count": null,
   "metadata": {},
   "outputs": [],
   "source": []
  },
  {
   "cell_type": "code",
   "execution_count": null,
   "metadata": {},
   "outputs": [],
   "source": [
    "\n",
    "\n",
    "\n",
    "\n"
   ]
  }
 ],
 "metadata": {
  "kernelspec": {
   "display_name": "Python 3",
   "language": "python",
   "name": "python3"
  },
  "language_info": {
   "codemirror_mode": {
    "name": "ipython",
    "version": 3
   },
   "file_extension": ".py",
   "mimetype": "text/x-python",
   "name": "python",
   "nbconvert_exporter": "python",
   "pygments_lexer": "ipython3",
   "version": "3.6.4"
  }
 },
 "nbformat": 4,
 "nbformat_minor": 2
}
